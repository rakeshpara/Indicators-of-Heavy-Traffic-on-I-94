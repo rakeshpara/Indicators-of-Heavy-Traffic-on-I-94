{
  "nbformat": 4,
  "nbformat_minor": 0,
  "metadata": {
    "colab": {
      "provenance": [],
      "authorship_tag": "ABX9TyPfr5+IE35j+FtkahsqM9+S"
    },
    "kernelspec": {
      "name": "python3",
      "display_name": "Python 3"
    },
    "language_info": {
      "name": "python"
    }
  },
  "cells": [
    {
      "cell_type": "markdown",
      "source": [
        "#gshdh\n",
        "gdfgd"
      ],
      "metadata": {
        "id": "xlYqQOLLjupP"
      }
    },
    {
      "cell_type": "code",
      "execution_count": 1,
      "metadata": {
        "id": "dfmZk8nqi1t2"
      },
      "outputs": [],
      "source": [
        "import pandas as pd"
      ]
    },
    {
      "cell_type": "markdown",
      "source": [],
      "metadata": {
        "id": "aiHGcWi9jrfU"
      }
    },
    {
      "cell_type": "code",
      "source": [
        "r=[1,2,3,4]"
      ],
      "metadata": {
        "id": "w_QSzUQ-jl0N"
      },
      "execution_count": 2,
      "outputs": []
    },
    {
      "cell_type": "code",
      "source": [
        "print(r)"
      ],
      "metadata": {
        "colab": {
          "base_uri": "https://localhost:8080/"
        },
        "id": "9AmRkAjQki5Z",
        "outputId": "2d606992-4343-4711-a7d9-9092aea54610"
      },
      "execution_count": 3,
      "outputs": [
        {
          "output_type": "stream",
          "name": "stdout",
          "text": [
            "[1, 2, 3, 4]\n"
          ]
        }
      ]
    },
    {
      "cell_type": "code",
      "source": [],
      "metadata": {
        "id": "oq7y-edQkmPf"
      },
      "execution_count": null,
      "outputs": []
    }
  ]
}